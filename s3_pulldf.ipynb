{
 "cells": [
  {
   "cell_type": "markdown",
   "id": "226aae1e",
   "metadata": {},
   "source": [
    "## Pull data from a file in the S3 Bucket\n",
    "\n",
    "This code downloads the data from file and puts it into a pandas dataframe \n",
    "\n",
    "To access the S3 content you will need the 'Key_id' and 'Secret_key'\n",
    "\n",
    "Users will also need to plug in the name of the file they are interested in (S3_file) in string format\n",
    "\n",
    "* to find file names use the s3_listbucket jupyter notebook"
   ]
  },
  {
   "cell_type": "code",
   "execution_count": null,
   "id": "ff03f907",
   "metadata": {},
   "outputs": [],
   "source": [
    "#enter the below parameters in string format \n",
    "\n",
    "S3_Key_id=''\n",
    "\n",
    "S3_Secret_key=''\n",
    "\n",
    "S3_file = ''"
   ]
  },
  {
   "cell_type": "markdown",
   "id": "0923c97e",
   "metadata": {},
   "source": [
    "## To get data from a file in the S3 bucket\n",
    "After S3_Key_id, S3_Secret_key, and S3_file have been entered above, run the below function"
   ]
  },
  {
   "cell_type": "code",
   "execution_count": null,
   "id": "2f60ca99",
   "metadata": {},
   "outputs": [],
   "source": [
    "import boto3\n",
    "import pandas as pd\n",
    "\n",
    "def pull_data(Key_id, Secret_key, file):\n",
    "\n",
    "    BUCKET_NAME = \"gtown-wildfire-ds\"\n",
    "    OBJECT_KEY = file\n",
    "    \n",
    "    client = boto3.client(\n",
    "        's3',\n",
    "        aws_access_key_id= Key_id,\n",
    "        aws_secret_access_key= Secret_key)\n",
    "\n",
    "    obj = client.get_object(Bucket= BUCKET_NAME, Key= OBJECT_KEY) \n",
    "    \n",
    "    file_df = pd.read_csv(obj['Body'])\n",
    "    \n",
    "    return (file_df)\n",
    "\n",
    "data = pull_data(S3_Key_id,S3_Secret_key,S3_file)"
   ]
  },
  {
   "cell_type": "code",
   "execution_count": null,
   "id": "46bbb2dc",
   "metadata": {},
   "outputs": [],
   "source": [
    "#data is stored in a pandas dataframe names 'data'\n",
    "data.columns"
   ]
  }
 ],
 "metadata": {
  "kernelspec": {
   "display_name": "Python 3 (ipykernel)",
   "language": "python",
   "name": "python3"
  },
  "language_info": {
   "codemirror_mode": {
    "name": "ipython",
    "version": 3
   },
   "file_extension": ".py",
   "mimetype": "text/x-python",
   "name": "python",
   "nbconvert_exporter": "python",
   "pygments_lexer": "ipython3",
   "version": "3.9.7"
  }
 },
 "nbformat": 4,
 "nbformat_minor": 5
}
