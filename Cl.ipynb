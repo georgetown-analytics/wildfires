{
 "cells": [
  {
   "cell_type": "code",
   "execution_count": 1,
   "id": "46c03bd8",
   "metadata": {},
   "outputs": [],
   "source": [
    "S3_Key_id=''\n",
    "\n",
    "S3_Secret_key=''\n",
    "\n",
    "S3_file = 'WFIGS_-_Wildland_Fire_Perimeters_Full_History.csv'"
   ]
  },
  {
   "cell_type": "code",
   "execution_count": 2,
   "id": "3a4748b1",
   "metadata": {},
   "outputs": [],
   "source": [
    "import boto3\n",
    "import pandas as pd\n",
    "from collections import Counter, defaultdict\n",
    "import csv"
   ]
  },
  {
   "cell_type": "code",
   "execution_count": 3,
   "id": "2a1dc898",
   "metadata": {},
   "outputs": [
    {
     "name": "stderr",
     "output_type": "stream",
     "text": [
      "/var/folders/fp/yk0vdn2x3czcnj314mr51lzr0000gn/T/ipykernel_14874/1976349208.py:13: DtypeWarning: Columns (40,69,72) have mixed types. Specify dtype option on import or set low_memory=False.\n",
      "  file_df = pd.read_csv(obj['Body'])\n"
     ]
    }
   ],
   "source": [
    "def pull_data(Key_id, Secret_key, file):\n",
    "\n",
    "    BUCKET_NAME = \"gtown-wildfire-ds\"\n",
    "    OBJECT_KEY = file\n",
    "    \n",
    "    client = boto3.client(\n",
    "        's3',\n",
    "        aws_access_key_id= Key_id,\n",
    "        aws_secret_access_key= Secret_key)\n",
    "\n",
    "    obj = client.get_object(Bucket= BUCKET_NAME, Key= OBJECT_KEY) \n",
    "    \n",
    "    file_df = pd.read_csv(obj['Body'])\n",
    "    \n",
    "    return (file_df)\n",
    "\n",
    "data = pull_data(S3_Key_id,S3_Secret_key,S3_file)"
   ]
  },
  {
   "cell_type": "code",
   "execution_count": 4,
   "id": "d5d48a23",
   "metadata": {},
   "outputs": [
    {
     "data": {
      "text/plain": [
       "['OBJECTID',\n",
       " 'poly_IncidentName',\n",
       " 'poly_FeatureCategory',\n",
       " 'poly_MapMethod',\n",
       " 'poly_GISAcres',\n",
       " 'poly_CreateDate',\n",
       " 'poly_DateCurrent',\n",
       " 'poly_PolygonDateTime',\n",
       " 'poly_Acres_AutoCalc',\n",
       " 'poly_GlobalID',\n",
       " 'poly_Source',\n",
       " 'irwin_ABCDMisc',\n",
       " 'irwin_ADSPermissionState',\n",
       " 'irwin_CalculatedAcres',\n",
       " 'irwin_ContainmentDateTime',\n",
       " 'irwin_ControlDateTime',\n",
       " 'irwin_DailyAcres',\n",
       " 'irwin_DiscoveryAcres',\n",
       " 'irwin_DispatchCenterID',\n",
       " 'irwin_EstimatedCostToDate',\n",
       " 'irwin_FFReportApprovedByTitle',\n",
       " 'irwin_FFReportApprovedByUnit',\n",
       " 'irwin_FFReportApprovedDate',\n",
       " 'irwin_FireBehaviorGeneral',\n",
       " 'irwin_FireBehaviorGeneral1',\n",
       " 'irwin_FireBehaviorGeneral2',\n",
       " 'irwin_FireBehaviorGeneral3',\n",
       " 'irwin_FireCause',\n",
       " 'irwin_FireCauseGeneral',\n",
       " 'irwin_FireCauseSpecific',\n",
       " 'irwin_FireCode',\n",
       " 'irwin_FireDepartmentID',\n",
       " 'irwin_FireDiscoveryDateTime',\n",
       " 'irwin_FireMgmtComplexity',\n",
       " 'irwin_FireOutDateTime',\n",
       " 'irwin_FSConfinePercent',\n",
       " 'irwin_FSFullSuppPercent',\n",
       " 'irwin_FSMonitorPercent',\n",
       " 'irwin_FSPointZonePercent',\n",
       " 'irwin_FSJobCode',\n",
       " 'irwin_FSOverrideCode',\n",
       " 'irwin_GACC',\n",
       " 'irwin_ICS209ReportDateTime',\n",
       " 'irwin_ICS209RForTimePeriodFrom',\n",
       " 'irwin_ICS209RForTimePeriodTo',\n",
       " 'irwin_ICS209ReportStatus',\n",
       " 'irwin_IncidentManagementOrg',\n",
       " 'irwin_IncidentName',\n",
       " 'irwin_IncidentShortDescription',\n",
       " 'irwin_IncidentTypeCategory',\n",
       " 'irwin_IncidentTypeKind',\n",
       " 'irwin_InitialLatitude',\n",
       " 'irwin_InitialLongitude',\n",
       " 'irwin_InitialResponseAcres',\n",
       " 'irwin_InitialResponseDateTime',\n",
       " 'irwin_IrwinID',\n",
       " 'irwin_IsFireCauseInvestigated',\n",
       " 'irwin_IsFireCodeRequested',\n",
       " 'irwin_IsFSAssisted',\n",
       " 'irwin_IsMultiJurisdictional',\n",
       " 'irwin_IsReimbursable',\n",
       " 'irwin_IsTrespass',\n",
       " 'irwin_IsUnifiedCommand',\n",
       " 'irwin_LocalIncidentIdentifier',\n",
       " 'irwin_PercentContained',\n",
       " 'irwin_PercentPerToBeContained',\n",
       " 'irwin_POOCity',\n",
       " 'irwin_POOCounty',\n",
       " 'irwin_POODispatchCenterID',\n",
       " 'irwin_POOFips',\n",
       " 'irwin_POOJurisdictionalAgency',\n",
       " 'irwin_POOJurisdictionalUnit',\n",
       " 'irwin_POOJurisdUnitParentUnit',\n",
       " 'irwin_POOLandownerCategory',\n",
       " 'irwin_POOLandownerKind',\n",
       " 'irwin_POOLegalDescPrinMeridian',\n",
       " 'irwin_POOLegalDescQtr',\n",
       " 'irwin_POOLegalDescQtrQtr',\n",
       " 'irwin_POOLegalDescRange',\n",
       " 'irwin_POOLegalDescSection',\n",
       " 'irwin_POOLegalDescTownship',\n",
       " 'irwin_POOPredServiceAreaID',\n",
       " 'irwin_POOProtectingAgency',\n",
       " 'irwin_POOProtectingUnit',\n",
       " 'irwin_POOState',\n",
       " 'irwin_PredominantFuelGroup',\n",
       " 'irwin_PredominantFuelModel',\n",
       " 'irwin_PrimaryFuelModel',\n",
       " 'irwin_SecondaryFuelModel',\n",
       " 'irwin_TotalIncidentPersonnel',\n",
       " 'irwin_UniqueFireIdentifier',\n",
       " 'irwin_WFDSSDecisionStatus',\n",
       " 'irwin_CreatedBySystem',\n",
       " 'irwin_ModifiedBySystem',\n",
       " 'irwin_IsDispatchComplete',\n",
       " 'irwin_OrganizationalAssessment',\n",
       " 'irwin_StratDecisionPublishDate',\n",
       " 'irwin_GlobalID',\n",
       " 'irwin_Source',\n",
       " 'irwin_ArchivedOn',\n",
       " 'irwin_ModifiedOnDateTime_dt',\n",
       " 'irwin_CreatedOnDateTime_dt',\n",
       " 'GlobalID',\n",
       " 'irwin_IsCpxChild',\n",
       " 'irwin_CpxName',\n",
       " 'irwin_CpxID',\n",
       " 'SHAPE_Length',\n",
       " 'SHAPE_Area']"
      ]
     },
     "execution_count": 4,
     "metadata": {},
     "output_type": "execute_result"
    }
   ],
   "source": [
    "list(data)"
   ]
  },
  {
   "cell_type": "code",
   "execution_count": 5,
   "id": "57d6cd8b",
   "metadata": {},
   "outputs": [
    {
     "name": "stdout",
     "output_type": "stream",
     "text": [
      "null rows\n",
      "7728\n",
      "not null rows\n",
      "1577\n"
     ]
    }
   ],
   "source": [
    "print('null rows')\n",
    "print(pd.isnull(data['irwin_ICS209ReportDateTime']).sum())\n",
    "\n",
    "print('not null rows')\n",
    "print(pd.notnull(data['irwin_ICS209ReportDateTime']).sum())\n"
   ]
  },
  {
   "cell_type": "code",
   "execution_count": 6,
   "id": "6624b0fc",
   "metadata": {},
   "outputs": [
    {
     "data": {
      "text/plain": [
       "(1577, 108)"
      ]
     },
     "execution_count": 6,
     "metadata": {},
     "output_type": "execute_result"
    }
   ],
   "source": [
    "notnullindex = data[data['irwin_ICS209ReportDateTime'].notnull()].index.tolist()\n",
    "\n",
    "\n",
    "ics209_df=data.loc[pd.Index(notnullindex)]\n",
    "\n",
    "ics209_df.shape"
   ]
  },
  {
   "cell_type": "code",
   "execution_count": 9,
   "id": "7ced0323",
   "metadata": {},
   "outputs": [
    {
     "data": {
      "text/plain": [
       "675"
      ]
     },
     "execution_count": 9,
     "metadata": {},
     "output_type": "execute_result"
    }
   ],
   "source": [
    "tuples_zlist = list(zip(ics209_df['irwin_FireDiscoveryDateTime'],ics209_df['irwin_ContainmentDateTime'],ics209_df['irwin_InitialLatitude'], ics209_df['irwin_InitialLongitude'],ics209_df['irwin_CalculatedAcres'],ics209_df['irwin_DailyAcres']))\n",
    "\n",
    "zlist_df = pd.DataFrame(tuples_zlist, columns = ['Discover_date_time','Containment_Date_Time','Lat','long','Final_Acres','Daily_Acres'])\n",
    "\n",
    "pd.isnull(zlist_df['Final_Acres']).sum()"
   ]
  }
 ],
 "metadata": {
  "kernelspec": {
   "display_name": "Python 3 (ipykernel)",
   "language": "python",
   "name": "python3"
  },
  "language_info": {
   "codemirror_mode": {
    "name": "ipython",
    "version": 3
   },
   "file_extension": ".py",
   "mimetype": "text/x-python",
   "name": "python",
   "nbconvert_exporter": "python",
   "pygments_lexer": "ipython3",
   "version": "3.9.7"
  }
 },
 "nbformat": 4,
 "nbformat_minor": 5
}
