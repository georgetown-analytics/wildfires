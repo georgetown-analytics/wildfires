{
 "cells": [
  {
   "cell_type": "markdown",
   "id": "b9ef0c11",
   "metadata": {},
   "source": [
    "#This python code is devised to convert provided longitude/latitude data to state/city/county data for each data point using the Geopy python library. In order to run this script, the Geopy library must be installed. Geopy can be installed using pip install:\n",
    "pip install geopy"
   ]
  },
  {
   "cell_type": "code",
   "execution_count": 1,
   "id": "2c4a5f56",
   "metadata": {},
   "outputs": [],
   "source": [
    "import pandas as pd\n",
    "path = 'viirs-snpp_2021_United_States.csv'"
   ]
  },
  {
   "cell_type": "code",
   "execution_count": 2,
   "id": "017d17ee",
   "metadata": {},
   "outputs": [],
   "source": [
    "dfSat = pd.read_csv(path)"
   ]
  },
  {
   "cell_type": "code",
   "execution_count": 5,
   "id": "80b20111",
   "metadata": {},
   "outputs": [],
   "source": [
    "# From Geopy, import Nominatim model \n",
    "from geopy.geocoders import Nominatim"
   ]
  },
  {
   "cell_type": "code",
   "execution_count": 6,
   "id": "02cf28ff",
   "metadata": {},
   "outputs": [],
   "source": [
    "#Initialize Nominatim API & create a Nominatim object\n",
    "geolocator = Nominatim(user_agent=\"geoapiExercises\")"
   ]
  },
  {
   "cell_type": "code",
   "execution_count": 7,
   "id": "a618b79b",
   "metadata": {},
   "outputs": [
    {
     "name": "stdout",
     "output_type": "stream",
     "text": [
      "Styles Bridges Highway, Tilton, Belknap County, New Hampshire, 03276, United States\n"
     ]
    }
   ],
   "source": [
    "#Here, we use row 0 as an example to test our script\n",
    "Latitude = \"43.476295\"\n",
    "Longitude = \"-71.587440\"\n",
    "  \n",
    "location = geolocator.reverse(Latitude+\",\"+Longitude)\n",
    "  \n",
    "\n",
    "print(location)"
   ]
  },
  {
   "cell_type": "code",
   "execution_count": 9,
   "id": "ea873115",
   "metadata": {},
   "outputs": [
    {
     "name": "stdout",
     "output_type": "stream",
     "text": [
      "{'road': 'Styles Bridges Highway', 'village': 'Tilton', 'county': 'Belknap County', 'state': 'New Hampshire', 'postcode': '03276', 'country': 'United States', 'country_code': 'us'}\n"
     ]
    }
   ],
   "source": [
    "#Again, using row 0 as an example\n",
    "address = location.raw['address']\n",
    "print(address)"
   ]
  },
  {
   "cell_type": "code",
   "execution_count": 10,
   "id": "30544dd2",
   "metadata": {},
   "outputs": [],
   "source": [
    "#Imports\n",
    "import reverse_geocoder as rg \n",
    "import pprint"
   ]
  },
  {
   "cell_type": "code",
   "execution_count": 11,
   "id": "88d36268",
   "metadata": {},
   "outputs": [
    {
     "name": "stdout",
     "output_type": "stream",
     "text": [
      "Loading formatted geocoded file...\n",
      "[{'admin1': 'New Hampshire',\n",
      "  'admin2': 'Belknap County',\n",
      "  'cc': 'US',\n",
      "  'lat': '43.48924',\n",
      "  'lon': '-71.5823',\n",
      "  'name': 'Sanbornton'}]\n",
      "[{'admin1': 'New Hampshire',\n",
      "  'admin2': 'Sullivan County',\n",
      "  'cc': 'US',\n",
      "  'lat': '43.23869',\n",
      "  'lon': '-72.42453',\n",
      "  'name': 'Charlestown'}]\n"
     ]
    }
   ],
   "source": [
    "#Identifying city, state, and county info for each long/lat pair\n",
    "def reverseGeocode(coordinates): \n",
    "    result = rg.search(coordinates)\n",
    "    # result is a list containing ordered dictionary \n",
    "    pprint.pprint(result)  \n",
    "\n",
    "# Driver function \n",
    "if __name__==\"__main__\": \n",
    "\n",
    "    for i in range(2):\n",
    "        #For first 2 lines only\n",
    "        coordinates =(dfSat['latitude'][i],dfSat['longitude'][i])\n",
    "        reverseGeocode(coordinates)"
   ]
  },
  {
   "cell_type": "code",
   "execution_count": 12,
   "id": "90ccc3c1",
   "metadata": {},
   "outputs": [
    {
     "name": "stdout",
     "output_type": "stream",
     "text": [
      "661058\n"
     ]
    }
   ],
   "source": [
    "print(len(dfSat.index))"
   ]
  },
  {
   "cell_type": "code",
   "execution_count": null,
   "id": "495c4a47",
   "metadata": {},
   "outputs": [],
   "source": [
    "#Finding City, State, County data for all data in the dataframe\n",
    "def reverseGeocode(coordinates): \n",
    "    result = rg.search(coordinates)\n",
    "\n",
    "if __name__==\"__main__\": \n",
    "#For all data in dataframe\n",
    "    for i in range(661058):\n",
    "        coordinates =(dfSat['latitude'][i],dfSat['longitude'][i])\n",
    "        reverseGeocode(coordinates)"
   ]
  },
  {
   "cell_type": "code",
   "execution_count": null,
   "id": "8ee9400d",
   "metadata": {},
   "outputs": [],
   "source": [
    "#Creating columns for location data\n",
    "dfSat['name'] = np.nan\n",
    "dfSat['admin1'] = np.nan\n",
    "dfSat['admin2'] = np.nan"
   ]
  },
  {
   "cell_type": "code",
   "execution_count": null,
   "id": "03075dbd",
   "metadata": {},
   "outputs": [],
   "source": [
    "#We now wish to rename our columns for each respective output\n",
    "dfSat = dfSat.copy().rename(columns={ 'admin1': 'State'})\n",
    "dfSat = dfSat.copy().rename(columns={ 'admin2': 'County'})\n",
    "dfSat = dfSat.copy().rename(columns={ 'name': 'City'})"
   ]
  }
 ],
 "metadata": {
  "kernelspec": {
   "display_name": "Python 3 (ipykernel)",
   "language": "python",
   "name": "python3"
  },
  "language_info": {
   "codemirror_mode": {
    "name": "ipython",
    "version": 3
   },
   "file_extension": ".py",
   "mimetype": "text/x-python",
   "name": "python",
   "nbconvert_exporter": "python",
   "pygments_lexer": "ipython3",
   "version": "3.9.7"
  }
 },
 "nbformat": 4,
 "nbformat_minor": 5
}
