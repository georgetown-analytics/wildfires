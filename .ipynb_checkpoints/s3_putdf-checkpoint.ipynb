{
 "cells": [
  {
   "cell_type": "markdown",
   "id": "ce0e2e96",
   "metadata": {},
   "source": [
    "## Put a file into the S3 Bucket\n",
    "\n",
    "This code allows users to upload a file (in any format) into the teams S3 bucket\n",
    "\n",
    "To access the S3 bucket you will need the 'Key_id' and 'Secret_key'\n"
   ]
  },
  {
   "cell_type": "code",
   "execution_count": null,
   "id": "da566dee",
   "metadata": {},
   "outputs": [],
   "source": [
    "#enter the below parameters in string format \n",
    "\n",
    "S3_Key_id=''\n",
    "\n",
    "S3_Secret_key=''\n"
   ]
  },
  {
   "cell_type": "markdown",
   "id": "36cd59cb",
   "metadata": {},
   "source": [
    "## To put a file in the S3 bucket\n",
    "After S3_Key_id and S3_Secret_key have been entered above, run the below function"
   ]
  },
  {
   "cell_type": "code",
   "execution_count": null,
   "id": "9d0e0cd8",
   "metadata": {},
   "outputs": [],
   "source": [
    "import boto3\n",
    "import os\n",
    "import tkinter as tk\n",
    "from tkinter import filedialog\n",
    "import pandas as pd\n",
    "\n",
    "root = tk.Tk()\n",
    "root.withdraw()\n",
    "\n",
    "file_path = filedialog.askopenfilename()\n",
    "final_form = os.path.basename(file_path)\n",
    "\n",
    "\n",
    "\n",
    "def put_data(Key_id, Secret_key, file,final_form):\n",
    "\n",
    "    BUCKET_NAME = \"gtown-wildfire-ds\"\n",
    "    OBJECT_KEY = file\n",
    "    \n",
    "    client = boto3.client(\n",
    "        's3',\n",
    "        aws_access_key_id= Key_id,\n",
    "        aws_secret_access_key= Secret_key)\n",
    "    \n",
    "    upload_file_bucket = BUCKET_NAME\n",
    "    #upload_file_key = OBJECT_KEY\n",
    "    upload_file_key = final_form\n",
    "    client.upload_file(file, upload_file_bucket, upload_file_key)\n",
    "    \n",
    "    \n",
    "        \n",
    "put_data(S3_Key_id,S3_Secret_key,file_path,final_form)\n"
   ]
  }
 ],
 "metadata": {
  "kernelspec": {
   "display_name": "Python 3 (ipykernel)",
   "language": "python",
   "name": "python3"
  },
  "language_info": {
   "codemirror_mode": {
    "name": "ipython",
    "version": 3
   },
   "file_extension": ".py",
   "mimetype": "text/x-python",
   "name": "python",
   "nbconvert_exporter": "python",
   "pygments_lexer": "ipython3",
   "version": "3.9.7"
  }
 },
 "nbformat": 4,
 "nbformat_minor": 5
}
