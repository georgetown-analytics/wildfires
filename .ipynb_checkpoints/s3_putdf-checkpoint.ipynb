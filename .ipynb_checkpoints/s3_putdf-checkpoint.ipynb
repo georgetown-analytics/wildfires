{
 "cells": [
  {
   "cell_type": "markdown",
   "id": "ce0e2e96",
   "metadata": {},
   "source": [
    "## Put a file into the S3 Bucket\n",
    "\n",
    "This code allows users to upload a file (in any format) into the teams S3 bucket\n",
    "\n",
    "To access the S3 bucket you will need the 'Key_id' and 'Secret_key'\n"
   ]
  },
  {
   "cell_type": "code",
   "execution_count": null,
   "id": "9d0e0cd8",
   "metadata": {},
   "outputs": [],
   "source": [
    "import boto3\n",
    "import os\n",
    "import pandas as pd\n",
    "\n",
    "def put_data(Key_id, Secret_key, file):\n",
    "\n",
    "    BUCKET_NAME = \"gtown-wildfire-ds\"\n",
    "    OBJECT_KEY = file\n",
    "    \n",
    "    client = boto3.client(\n",
    "        's3',\n",
    "        aws_access_key_id= Key_id,\n",
    "        aws_secret_access_key= Secret_key)\n",
    "    \n",
    "    upload_file_bucket = BUCKET_NAME\n",
    "    upload_file_key = OBJECT_KEY\n",
    "    client.upload_file(file, upload_file_bucket, upload_file_key)\n",
    "    \n",
    "    \n",
    "def list_buck_conts(Key_id, Secret_key):\n",
    "    \n",
    "    session = boto3.Session(\n",
    "        aws_access_key_id= Key_id,\n",
    "        aws_secret_access_key= Secret_key)\n",
    "    \n",
    "    s3 = session.resource('s3')\n",
    "    \n",
    "    my_bucket = s3.Bucket('gtown-wildfire-ds')\n",
    "    \n",
    "    \n",
    "    for bucket_obj in my_bucket.objects.all():\n",
    "        print(bucket_obj.key) "
   ]
  },
  {
   "cell_type": "markdown",
   "id": "3222f3b7",
   "metadata": {},
   "source": [
    "Plug the 'Key_id', the 'Secret_key', and the file name into the put_data() function \n",
    "\n",
    "example: pull_data('...EH','...37','test_file.csv')"
   ]
  },
  {
   "cell_type": "code",
   "execution_count": null,
   "id": "3c7643d8",
   "metadata": {},
   "outputs": [],
   "source": [
    "put_data('','','')\n",
    "\n",
    "\n",
    "#this code will not return anything, it only inputs data into S3 bucket"
   ]
  },
  {
   "cell_type": "code",
   "execution_count": null,
   "id": "97c410e8",
   "metadata": {},
   "outputs": [],
   "source": [
    "#Use the list_buck_conts() function to see if your file uploaded to the bucket\n",
    "\n",
    "list_buck_conts('','')"
   ]
  }
 ],
 "metadata": {
  "kernelspec": {
   "display_name": "Python 3 (ipykernel)",
   "language": "python",
   "name": "python3"
  },
  "language_info": {
   "codemirror_mode": {
    "name": "ipython",
    "version": 3
   },
   "file_extension": ".py",
   "mimetype": "text/x-python",
   "name": "python",
   "nbconvert_exporter": "python",
   "pygments_lexer": "ipython3",
   "version": "3.9.7"
  }
 },
 "nbformat": 4,
 "nbformat_minor": 5
}
