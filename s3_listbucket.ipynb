{
 "cells": [
  {
   "cell_type": "markdown",
   "id": "9f5cb186",
   "metadata": {},
   "source": [
    "## List S3 Bucket Contents\n",
    "\n",
    "This code allows you to view what files are inside of our teams S3 Bucket\n",
    "\n",
    "\n",
    "To access the S3 content you will need the 'Key_id' and 'Secret_key'\n"
   ]
  },
  {
   "cell_type": "code",
   "execution_count": null,
   "id": "c65e464e",
   "metadata": {},
   "outputs": [],
   "source": [
    "import boto3 #pip install boto3\n",
    "import pandas as pd\n",
    "\n",
    "def list_buck_conts(Key_id, Secret_key):\n",
    "    \n",
    "    session = boto3.Session(\n",
    "        aws_access_key_id= Key_id,\n",
    "        aws_secret_access_key= Secret_key)\n",
    "    \n",
    "    s3 = session.resource('s3')\n",
    "    \n",
    "    my_bucket = s3.Bucket('gtown-wildfire-ds')\n",
    "    \n",
    "    \n",
    "    for bucket_obj in my_bucket.objects.all():\n",
    "        print(bucket_obj.key)"
   ]
  },
  {
   "cell_type": "markdown",
   "id": "a7bd9df1",
   "metadata": {},
   "source": [
    "Plug the 'Key_id' and 'Secret_key' into the list_buck_conts() function "
   ]
  },
  {
   "cell_type": "code",
   "execution_count": null,
   "id": "3c7643d8",
   "metadata": {},
   "outputs": [],
   "source": [
    "list_buck_conts()"
   ]
  }
 ],
 "metadata": {
  "kernelspec": {
   "display_name": "Python 3 (ipykernel)",
   "language": "python",
   "name": "python3"
  },
  "language_info": {
   "codemirror_mode": {
    "name": "ipython",
    "version": 3
   },
   "file_extension": ".py",
   "mimetype": "text/x-python",
   "name": "python",
   "nbconvert_exporter": "python",
   "pygments_lexer": "ipython3",
   "version": "3.9.7"
  }
 },
 "nbformat": 4,
 "nbformat_minor": 5
}
